{
  "nbformat": 4,
  "nbformat_minor": 0,
  "metadata": {
    "colab": {
      "name": "CSE111_Lab_Assignment_no:3",
      "provenance": [],
      "collapsed_sections": []
    },
    "kernelspec": {
      "name": "python3",
      "display_name": "Python 3"
    },
    "language_info": {
      "name": "python"
    }
  },
  "cells": [
    {
      "cell_type": "code",
      "metadata": {
        "colab": {
          "base_uri": "https://localhost:8080/"
        },
        "id": "nAGGB9qZ5nhU",
        "outputId": "e17daa2e-3be4-4ef1-d7d2-189d5cea3046"
      },
      "source": [
        "# Question 1\n",
        "class DataType:\n",
        "    def __init__(self, name, value):\n",
        "        self.name = name\n",
        "        self.value = value\n",
        "\n",
        "data_type1 = DataType('Integer', 1234)\n",
        "print(data_type1.name)\n",
        "print(data_type1.value)\n",
        "print('=====================')\n",
        "data_type2 = DataType('String', 'Hello')\n",
        "print(data_type2.name)\n",
        "print(data_type2.value)\n",
        "print('=====================')\n",
        "data_type3 = DataType('Float', 4.0)\n",
        "print(data_type3.name)\n",
        "print(data_type3.value)\n"
      ],
      "execution_count": null,
      "outputs": [
        {
          "output_type": "stream",
          "name": "stdout",
          "text": [
            "Integer\n",
            "1234\n",
            "=====================\n",
            "String\n",
            "Hello\n",
            "=====================\n",
            "Float\n",
            "4.0\n"
          ]
        }
      ]
    },
    {
      "cell_type": "code",
      "metadata": {
        "colab": {
          "base_uri": "https://localhost:8080/"
        },
        "id": "ok4Vqu3G58A1",
        "outputId": "3824aa38-b886-4dab-d4da-63ff88000919"
      },
      "source": [
        "# Question 2\n",
        "class Flower:\n",
        "    def __init__(self):\n",
        "        pass\n",
        "\n",
        "\n",
        "flower1 = Flower()\n",
        "flower1.name = \"Rose\"\n",
        "flower1.color = \"Red\"\n",
        "flower1.num_of_petal = 6\n",
        "print(\"Name of this flower:\", flower1.name)\n",
        "print(\"Color of this flower:\", flower1.color)\n",
        "print(\"Number of petal:\", flower1.num_of_petal)\n",
        "print(\"=====================\")\n",
        "flower2 = Flower()\n",
        "flower2.name = \"Orchid\"\n",
        "flower2.color = \"Purple\"\n",
        "flower2.num_of_petal = 4\n",
        "print(\"Name of this flower:\", flower2.name)\n",
        "print(\"Color of this flower:\", flower2.color)\n",
        "print(\"Number of petal:\", flower2.num_of_petal)\n",
        "# Write the code for subtask 2 and 3 here\n",
        "print(id(flower1))\n",
        "print(id(flower2))\n",
        "if id(flower1) == id(flower2):\n",
        "    print('they are same')\n",
        "else:\n",
        "    print('they are different')\n"
      ],
      "execution_count": null,
      "outputs": [
        {
          "output_type": "stream",
          "name": "stdout",
          "text": [
            "Name of this flower: Rose\n",
            "Color of this flower: Red\n",
            "Number of petal: 6\n",
            "=====================\n",
            "Name of this flower: Orchid\n",
            "Color of this flower: Purple\n",
            "Number of petal: 4\n",
            "140610225036368\n",
            "140610225036688\n",
            "they are different\n"
          ]
        }
      ]
    },
    {
      "cell_type": "code",
      "metadata": {
        "id": "8D6ELzpofeIi",
        "colab": {
          "base_uri": "https://localhost:8080/"
        },
        "outputId": "a373530c-0d2b-4070-a336-dfd585f307ad"
      },
      "source": [
        "# Question 3\n",
        "class Wadiya():\n",
        "\n",
        "    def __init__(self):\n",
        "        self.name = 'Aladeen'\n",
        "        self.designation = 'President Prime Minister Admiral General'\n",
        "        self.num_of_wife = 100\n",
        "        self.dictator = True\n",
        "\n",
        "\n",
        "print('Part 1:')\n",
        "wadiya = Wadiya()\n",
        "print('Name of President:', wadiya.name)\n",
        "print('Designation:', wadiya.designation)\n",
        "print('Number of wife:', wadiya.num_of_wife)\n",
        "print('Is he/she a dictator:', wadiya.dictator)\n",
        "print('Part 2:')\n",
        "wadiya.name = 'Donald Trump'\n",
        "wadiya.designation = 'President'\n",
        "wadiya.num_of_wife = 1\n",
        "wadiya.dictator = False\n",
        "print('Name of President:', wadiya.name)\n",
        "print('Designation:', wadiya.designation)\n",
        "print('Number of wife:', wadiya.num_of_wife)\n",
        "print('Is he/she a dictator:', wadiya.dictator)\n",
        "print('No, changing had no effect on previous value')"
      ],
      "execution_count": null,
      "outputs": [
        {
          "output_type": "stream",
          "name": "stdout",
          "text": [
            "Part 1:\n",
            "Name of President: Aladeen\n",
            "Designation: President Prime Minister Admiral General\n",
            "Number of wife: 100\n",
            "Is he/she a dictator: True\n",
            "Part 2:\n",
            "Name of President: Donald Trump\n",
            "Designation: President\n",
            "Number of wife: 1\n",
            "Is he/she a dictator: False\n",
            "No, changing had no effect on previous value\n"
          ]
        }
      ]
    },
    {
      "cell_type": "code",
      "metadata": {
        "colab": {
          "base_uri": "https://localhost:8080/"
        },
        "id": "cAaefKiWj25q",
        "outputId": "ac8b8b2e-1374-4050-c615-e5fe330b3b8e"
      },
      "source": [
        "# Question 4\n",
        "class Joker:\n",
        "    def __init__(self, name, power, psycho_bool):\n",
        "        self.name = name\n",
        "        self.power = power\n",
        "        self.is_he_psycho = psycho_bool\n",
        "\n",
        "\n",
        "j1 = Joker('Heath Ledger', 'Mind Game', False)\n",
        "print(j1.name)\n",
        "print(j1.power)\n",
        "print(j1.is_he_psycho)\n",
        "print('== == == == == == == == == == =')\n",
        "j2 = Joker('Joaquin Phoenix', 'Laughing out Loud', True)\n",
        "print(j2.name)\n",
        "print(j2.power)\n",
        "print(j2.is_he_psycho)\n",
        "print(\"== == == == == == == == == == =\")\n",
        "if j1 == j2:\n",
        "    print('same')\n",
        "else:\n",
        "    print('different')\n",
        "j2.name = 'Heath Ledger'\n",
        "if j1.name == j2.name:\n",
        "    print('same')\n",
        "else:\n",
        "    print('different')\n",
        "print(\n",
        "    \"The first if/else block prints the output as 'different', because both objects and their instance variable are having different memory location\")\n",
        "print(\n",
        "    \"The second if/else block prints the output as 'same', because both objects having different memory location but the 'name' instance variable  is pointing on same memory location \")\n"
      ],
      "execution_count": null,
      "outputs": [
        {
          "output_type": "stream",
          "name": "stdout",
          "text": [
            "Heath Ledger\n",
            "Mind Game\n",
            "False\n",
            "== == == == == == == == == == =\n",
            "Joaquin Phoenix\n",
            "Laughing out Loud\n",
            "True\n",
            "== == == == == == == == == == =\n",
            "different\n",
            "same\n",
            "The first if/else block prints the output as 'different', because both objects and their instance variable are having different memory location\n",
            "The second if/else block prints the output as 'same', because both objects having different memory location but the 'name' instance variable  is pointing on same memory location \n"
          ]
        }
      ]
    },
    {
      "cell_type": "code",
      "metadata": {
        "colab": {
          "base_uri": "https://localhost:8080/"
        },
        "id": "jGiiUwZqq4d7",
        "outputId": "5a2aace5-9f33-4ef4-f1a7-005a0cc54ea8"
      },
      "source": [
        "# Question 5\n",
        "class Pokemon:\n",
        "    def __init__(self, pokemon1_name, pokemon2_name, pokemon1_power, pokemon2_power, damage_rate):\n",
        "        self.pokemon1_name = pokemon1_name\n",
        "        self.pokemon2_name = pokemon2_name\n",
        "        self.pokemon1_power = pokemon1_power\n",
        "        self.pokemon2_power = pokemon2_power\n",
        "        self.damage_rate = damage_rate\n",
        "\n",
        "\n",
        "team_pika = Pokemon('pikachu', 'charmander', 90, 60, 10)\n",
        "print('=======Team 1=======')\n",
        "print('Pokemon 1:', team_pika.pokemon1_name,\n",
        "      team_pika.pokemon1_power)\n",
        "print('Pokemon 2:', team_pika.pokemon2_name,\n",
        "      team_pika.pokemon2_power)\n",
        "pika_combined_power = (team_pika.pokemon1_power +\n",
        "                       team_pika.pokemon2_power) * team_pika.damage_rate\n",
        "print('Combined Power:', pika_combined_power)\n",
        "print('=======Team 2=======')\n",
        "team_bulb = Pokemon('bulbasaur', 'squirtle', 80, 70, 9)\n",
        "print('Pokemon 1:', team_bulb.pokemon1_name,\n",
        "      team_bulb.pokemon1_power)\n",
        "print('Pokemon 2:', team_bulb.pokemon2_name,\n",
        "      team_bulb.pokemon2_power)\n",
        "pika_combined_power = (team_bulb.pokemon1_power +\n",
        "                       team_bulb.pokemon2_power) * team_bulb.damage_rate\n",
        "print('Combined Power:', pika_combined_power)"
      ],
      "execution_count": null,
      "outputs": [
        {
          "output_type": "stream",
          "name": "stdout",
          "text": [
            "=======Team 1=======\n",
            "Pokemon 1: pikachu 90\n",
            "Pokemon 2: charmander 60\n",
            "Combined Power: 1500\n",
            "=======Team 2=======\n",
            "Pokemon 1: bulbasaur 80\n",
            "Pokemon 2: squirtle 70\n",
            "Combined Power: 1350\n"
          ]
        }
      ]
    },
    {
      "cell_type": "code",
      "metadata": {
        "colab": {
          "base_uri": "https://localhost:8080/"
        },
        "id": "b4sO-d0Nw0ox",
        "outputId": "74c95ef5-5d98-42f2-f8a0-15b21f4c6d97"
      },
      "source": [
        "# Question 6\n",
        "class Player:\n",
        "    def __init__(self):\n",
        "        pass\n",
        "\n",
        "\n",
        "player1 = Player()\n",
        "player1.name = \"Ronaldo\"\n",
        "player1.jersy_number = 9\n",
        "player1.position = \"Striker\"\n",
        "print(\"Name of the Player:\", player1.name)\n",
        "print(\"Jersey Number of player:\", player1.jersy_number)\n",
        "print(\"Position of player:\", player1.position)\n",
        "print(\"== == == == == == == == == == == == == =\")\n",
        "player2 = Player()\n",
        "player2.name = \"Neuer\"\n",
        "player2.jersy_number = 1\n",
        "player2.position = \"Goal Keeper\"\n",
        "print(\"Name of the player:\", player2.name)\n",
        "print(\"Jersey Number of player:\", player2.jersy_number)\n",
        "print(\"Position of player:\", player2.position)\n"
      ],
      "execution_count": null,
      "outputs": [
        {
          "output_type": "stream",
          "name": "stdout",
          "text": [
            "Name of the Player: Ronaldo\n",
            "Jersey Number of player: 9\n",
            "Position of player: Striker\n",
            "== == == == == == == == == == == == == =\n",
            "Name of the player: Neuer\n",
            "Jersey Number of player: 1\n",
            "Position of player: Goal Keeper\n"
          ]
        }
      ]
    },
    {
      "cell_type": "code",
      "metadata": {
        "colab": {
          "base_uri": "https://localhost:8080/"
        },
        "id": "8m-Dqt7Ox8y5",
        "outputId": "0edcafc7-67b3-413a-e8cb-e93f4ad96be0"
      },
      "source": [
        "# Question 7\n",
        "class Country:\n",
        "    def __init__(self, name='Bangladesh', continent='Asia', capital='Dhaka', fifa_ranking=187):\n",
        "        self.name = name\n",
        "        self.continent = continent\n",
        "        self.capital = capital\n",
        "        self.fifa_ranking = fifa_ranking\n",
        "\n",
        "\n",
        "country = Country()\n",
        "print('Name:', country.name)\n",
        "print('Continent:', country.continent)\n",
        "print('Capital:', country.capital)\n",
        "print('Fifa Ranking:', country.fifa_ranking)\n",
        "print('===================')\n",
        "country.name = 'Belgium'\n",
        "country.continent = 'Europe'\n",
        "country.capital = 'Brussels'\n",
        "country.fifa_ranking = 1\n",
        "print('Name:', country.name)\n",
        "print('Continent:', country.continent)\n",
        "print('Capital:', country.capital)\n",
        "print('Fifa Ranking:', country.fifa_ranking)"
      ],
      "execution_count": null,
      "outputs": [
        {
          "output_type": "stream",
          "name": "stdout",
          "text": [
            "Name: Bangladesh\n",
            "Continent: Asia\n",
            "Capital: Dhaka\n",
            "Fifa Ranking: 187\n",
            "===================\n",
            "Name: Belgium\n",
            "Continent: Europe\n",
            "Capital: Brussels\n",
            "Fifa Ranking: 1\n"
          ]
        }
      ]
    },
    {
      "cell_type": "code",
      "metadata": {
        "colab": {
          "base_uri": "https://localhost:8080/"
        },
        "id": "qRTLMCcbyZiD",
        "outputId": "a8c880ac-3a0e-47a5-d7da-fdfa5d35a0fd"
      },
      "source": [
        "# Question 8\n",
        "class DemonSlayer:\n",
        "    def __init__(self, name, style, number_of_technique, kill):\n",
        "        self.name = name\n",
        "        self.style = style\n",
        "        self.number_of_technique = number_of_technique\n",
        "        self.kill = kill\n",
        "\n",
        "\n",
        "tanjiro = DemonSlayer(\"Tanjiro\", \"Water Breathing\", 10, 10)\n",
        "print('Name:', tanjiro.name)\n",
        "print('Fighting Style:', tanjiro.style)\n",
        "print(f'Knows {tanjiro.number_of_technique} technique(s) and has killed {tanjiro.kill} demon(s)')\n",
        "print('===================')\n",
        "zenitsu = DemonSlayer(\"Zenitsu\", \"Thunder Breathing\", 1, 4)\n",
        "print('Name:', zenitsu.name)\n",
        "print('Fighting Style:', zenitsu.style)\n",
        "print(f'Knows {zenitsu.number_of_technique} technique(s) and has killed {zenitsu.kill} demon(s)')\n",
        "print('===================')\n",
        "inosuke = DemonSlayer(\"Inosuke\", \"Beast Breathing\", 5, 7)\n",
        "print('Name:', inosuke.name)\n",
        "print('Fighting Style:', inosuke.style)\n",
        "print(f'Knows {inosuke.number_of_technique} technique(s) and has killed {inosuke.kill} demon(s)')\n",
        "print('===================')\n",
        "print(\n",
        "    f'{tanjiro.name}, {zenitsu.name}, {inosuke.name} knowstotal {tanjiro.number_of_technique + zenitsu.number_of_technique + inosuke.number_of_technique} techniques')\n",
        "print(f'They have killed total {tanjiro.kill + zenitsu.kill + inosuke.kill} demons')\n"
      ],
      "execution_count": null,
      "outputs": [
        {
          "output_type": "stream",
          "name": "stdout",
          "text": [
            "Name: Tanjiro\n",
            "Fighting Style: Water Breathing\n",
            "Knows 10 technique(s) and has killed 10 demon(s)\n",
            "===================\n",
            "Name: Zenitsu\n",
            "Fighting Style: Thunder Breathing\n",
            "Knows 1 technique(s) and has killed 4 demon(s)\n",
            "===================\n",
            "Name: Inosuke\n",
            "Fighting Style: Beast Breathing\n",
            "Knows 5 technique(s) and has killed 7 demon(s)\n",
            "===================\n",
            "Tanjiro, Zenitsu, Inosuke knowstotal 16 techniques\n",
            "They have killed total 21 demons\n"
          ]
        }
      ]
    },
    {
      "cell_type": "code",
      "metadata": {
        "colab": {
          "base_uri": "https://localhost:8080/"
        },
        "id": "TmpdM-JNyZp1",
        "outputId": "f0a3dac7-cab5-4410-b8b7-beaadccb7f5b"
      },
      "source": [
        "# Question 9\n",
        "class box:\n",
        "    def __init__(self, input):\n",
        "        print('Creating a Box!')\n",
        "        print(f'Volume of the box is {input[0]*input[1]*input[2]} cubic units.')\n",
        "        self.height = input[0]\n",
        "        self.width = input[1]\n",
        "        self.breadth = input[2]\n",
        "\n",
        "\n",
        "print(\"Box 1\")\n",
        "b1 = box([10, 10, 10])\n",
        "print(\"=========================\")\n",
        "print(\"Height:\", b1.height)\n",
        "print(\"Width:\", b1.width)\n",
        "print(\"Breadth:\", b1.breadth)\n",
        "print(\"-------------------------\")\n",
        "print(\"Box 2\")\n",
        "b2 = box((30, 10, 10))\n",
        "print(\"=========================\")\n",
        "print(\"Height:\", b2.height)\n",
        "print(\"Width:\", b2.width)\n",
        "print(\"Breadth:\", b2.breadth)\n",
        "b2.height = 300\n",
        "print(\"Updating Box 2!\")\n",
        "print(\"Height:\", b2.height)\n",
        "print(\"Width:\", b2.width)\n",
        "print(\"Breadth:\", b2.breadth)\n",
        "print(\"-------------------------\")\n",
        "print(\"Box 3\")\n",
        "b3 = b2\n",
        "print(\"Height:\", b3.height)\n",
        "print(\"Width:\", b3.width)\n",
        "print(\"Breadth:\", b3.breadth)"
      ],
      "execution_count": null,
      "outputs": [
        {
          "output_type": "stream",
          "name": "stdout",
          "text": [
            "Box 1\n",
            "Creating a Box!\n",
            "Volume of the box is 1000 cubic units.\n",
            "=========================\n",
            "Height: 10\n",
            "Width: 10\n",
            "Breadth: 10\n",
            "-------------------------\n",
            "Box 2\n",
            "Creating a Box!\n",
            "Volume of the box is 3000 cubic units.\n",
            "=========================\n",
            "Height: 30\n",
            "Width: 10\n",
            "Breadth: 10\n",
            "Updating Box 2!\n",
            "Height: 300\n",
            "Width: 10\n",
            "Breadth: 10\n",
            "-------------------------\n",
            "Box 3\n",
            "Height: 300\n",
            "Width: 10\n",
            "Breadth: 10\n"
          ]
        }
      ]
    },
    {
      "cell_type": "code",
      "metadata": {
        "colab": {
          "base_uri": "https://localhost:8080/"
        },
        "id": "iBh2Wdhbyc-H",
        "outputId": "4e953497-6db8-40ae-e8d9-e1a66c29bb95"
      },
      "source": [
        "# Question 10\n",
        "class buttons:\n",
        "\n",
        "    def __init__(self, word, spaces, border):\n",
        "        top_bottom_border = 1+spaces+len(word)+spaces+1\n",
        "        print(f'{word} Button Specifications:')\n",
        "        print(f'Button name: {word}')\n",
        "        print(f'Number of the border characters for the top and the bottom: {top_bottom_border}')\n",
        "        print(f'Number of spaces between the left side border and the first character of the button name: {spaces}')\n",
        "        print(f'Number of spaces between the right side border and the last character of the button name: {spaces}')\n",
        "        print(f'Characters representing the borders: {border}')\n",
        "        print(border*top_bottom_border)\n",
        "        print(f'{border}{\" \"*spaces}{word}{\" \"*spaces}{border}')\n",
        "        print(border*top_bottom_border)\n",
        "\n",
        "word = \"CANCEL\"\n",
        "spaces = 10\n",
        "border = 'x'\n",
        "b1 = buttons(word, spaces, border)\n",
        "print(\"=======================================================\")\n",
        "b2 = buttons(\"Notify\", 3, '!')\n",
        "print(\"=======================================================\")\n",
        "b3 = buttons('SAVE PROGRESS', 5, '$')"
      ],
      "execution_count": null,
      "outputs": [
        {
          "output_type": "stream",
          "name": "stdout",
          "text": [
            "CANCEL Button Specifications:\n",
            "Button name: CANCEL\n",
            "Number of the border characters for the top and the bottom: 28\n",
            "Number of spaces between the left side border and the first character of the button name: 10\n",
            "Number of spaces between the right side border and the last character of the button name: 10\n",
            "Characters representing the borders: x\n",
            "xxxxxxxxxxxxxxxxxxxxxxxxxxxx\n",
            "x          CANCEL          x\n",
            "xxxxxxxxxxxxxxxxxxxxxxxxxxxx\n",
            "=======================================================\n",
            "Notify Button Specifications:\n",
            "Button name: Notify\n",
            "Number of the border characters for the top and the bottom: 14\n",
            "Number of spaces between the left side border and the first character of the button name: 3\n",
            "Number of spaces between the right side border and the last character of the button name: 3\n",
            "Characters representing the borders: !\n",
            "!!!!!!!!!!!!!!\n",
            "!   Notify   !\n",
            "!!!!!!!!!!!!!!\n",
            "=======================================================\n",
            "SAVE PROGRESS Button Specifications:\n",
            "Button name: SAVE PROGRESS\n",
            "Number of the border characters for the top and the bottom: 25\n",
            "Number of spaces between the left side border and the first character of the button name: 5\n",
            "Number of spaces between the right side border and the last character of the button name: 5\n",
            "Characters representing the borders: $\n",
            "$$$$$$$$$$$$$$$$$$$$$$$$$\n",
            "$     SAVE PROGRESS     $\n",
            "$$$$$$$$$$$$$$$$$$$$$$$$$\n"
          ]
        }
      ]
    }
  ]
}