{
  "nbformat": 4,
  "nbformat_minor": 0,
  "metadata": {
    "colab": {
      "name": "AHSAN_ULLAH_21301157_13",
      "provenance": [],
      "collapsed_sections": []
    },
    "kernelspec": {
      "name": "python3",
      "display_name": "Python 3"
    },
    "language_info": {
      "name": "python"
    }
  },
  "cells": [
    {
      "cell_type": "code",
      "metadata": {
        "colab": {
          "base_uri": "https://localhost:8080/"
        },
        "id": "VB4tlvvOaT1U",
        "outputId": "ddd648ee-8ede-4a3f-957d-6ee59b9d9fdb"
      },
      "source": [
        "\n",
        "IDs = ['20201199', '21121347', '20141052', '20341121', '21241369', '21272199', '19241187', '19101007', '20101035',\n",
        "       '21121875', '19141534', '19301552', '21141135', '21365001']\n",
        "\n",
        "dictionary = {}\n",
        "CSE = []\n",
        "CS = []\n",
        "EEE = []\n",
        "other = []\n",
        "for var in IDs:\n",
        "    temp = f'{str(var[3])}{str(var[4])}'\n",
        "    if temp == '01':\n",
        "        CSE.append(var)\n",
        "    elif temp == '41':\n",
        "        CS.append(var)\n",
        "    elif temp == '21':\n",
        "        EEE.append(var)\n",
        "    else:\n",
        "        other.append(var)\n",
        "    # print(temp)\n",
        "\n",
        "for var in IDs:\n",
        "    temp = f'20{str(var[0])}{str(var[1])}'\n",
        "    dictionary[temp] = {}\n",
        "\n",
        "for var in dictionary:\n",
        "    for varx in CSE:\n",
        "        if f'20{varx[0]}{varx[1]}' == var:\n",
        "            dictionary[var]['CSE'] = []\n",
        "            for varz in CSE:\n",
        "                if f'20{varz[0]}{varz[1]}' == var:\n",
        "                    dictionary[var]['CSE'].append(varz)\n",
        "    for varx in CS:\n",
        "        if f'20{varx[0]}{varx[1]}' == var:\n",
        "            dictionary[var]['CS'] = []\n",
        "            for varz in CS:\n",
        "                if f'20{varz[0]}{varz[1]}' == var:\n",
        "                    dictionary[var]['CS'].append(varz)\n",
        "    for varx in EEE:\n",
        "        if f'20{varx[0]}{varx[1]}' == var:\n",
        "            dictionary[var]['EEE'] = []\n",
        "            for varz in EEE:\n",
        "                if f'20{varz[0]}{varz[1]}' == var:\n",
        "                    dictionary[var]['EEE'].append(varz)\n",
        "    for varx in other:\n",
        "        if f'20{varx[0]}{varx[1]}' == var:\n",
        "            dictionary[var]['other'] = []\n",
        "            for varz in other:\n",
        "                if f'20{varz[0]}{varz[1]}' == var:\n",
        "                    dictionary[var]['other'].append(varz)\n",
        "print(dictionary)"
      ],
      "execution_count": 3,
      "outputs": [
        {
          "output_type": "stream",
          "name": "stdout",
          "text": [
            "{'2020': {'CSE': ['20201199', '20101035'], 'CS': ['20141052', '20341121']}, '2021': {'CS': ['21241369', '21141135'], 'EEE': ['21121347', '21121875'], 'other': ['21272199', '21365001']}, '2019': {'CSE': ['19101007', '19301552'], 'CS': ['19241187', '19141534']}}\n"
          ]
        }
      ]
    }
  ]
}