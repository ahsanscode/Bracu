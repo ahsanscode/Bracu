{
  "nbformat": 4,
  "nbformat_minor": 0,
  "metadata": {
    "colab": {
      "name": "7_21301157_AHSAN_ULLAH.ipynb",
      "provenance": [],
      "collapsed_sections": []
    },
    "kernelspec": {
      "name": "python3",
      "display_name": "Python 3"
    },
    "language_info": {
      "name": "python"
    }
  },
  "cells": [
    {
      "cell_type": "code",
      "execution_count": 1,
      "metadata": {
        "colab": {
          "base_uri": "https://localhost:8080/"
        },
        "id": "bB7VTpPfwr94",
        "outputId": "2152d170-ca99-4db1-f985-7f24a9d536bc"
      },
      "outputs": [
        {
          "output_type": "stream",
          "name": "stdout",
          "text": [
            "Name: default Department: BBA\n",
            "Name: Humpty Dumpty Department: BBA\n",
            "Name: Little Bo Peep Department: BBA\n"
          ]
        }
      ],
      "source": [
        "# solution of task 1\n",
        "class Student:\n",
        "    def __init__(self, name='Just a student', dept='nothing'):\n",
        "        self.__name = name\n",
        "        self.__department = dept\n",
        "\n",
        "    def set_department(self, dept):\n",
        "        self.__department = dept\n",
        "\n",
        "    def get_name(self):\n",
        "        return self.__name\n",
        "\n",
        "    def set_name(self, name):\n",
        "        self.__name = name\n",
        "\n",
        "    def __str__(self):\n",
        "        return 'Name: ' + self.__name + ' Department: ' + self.__department\n",
        "\n",
        "\n",
        "# write your code here\n",
        "\n",
        "class BBA_Student(Student):\n",
        "    def __init__(self, name='default'):\n",
        "        super(BBA_Student, self).__init__(name, 'BBA')\n",
        "\n",
        "\n",
        "print(BBA_Student())\n",
        "print(BBA_Student('Humpty Dumpty'))\n",
        "print(BBA_Student('Little Bo Peep'))\n"
      ]
    },
    {
      "cell_type": "code",
      "source": [
        "# solution of task 2\n",
        "class Vehicle:\n",
        "    def __init__(self):\n",
        "        self.x = 0\n",
        "        self.y = 0\n",
        "\n",
        "    def moveUp(self):\n",
        "        self.y += 1\n",
        "\n",
        "    def moveDown(self):\n",
        "        self.y -= 1\n",
        "\n",
        "    def moveRight(self):\n",
        "        self.x += 1\n",
        "\n",
        "    def moveLeft(self):\n",
        "        self.x -= 1\n",
        "\n",
        "    def __str__(self):\n",
        "        return '(' + str(self.x) + ' , ' + str(self.y) + ')'\n",
        "\n",
        "\n",
        "# write your code here\n",
        "class Vehicle2010(Vehicle):\n",
        "    def __init__(self):\n",
        "        super(Vehicle2010, self).__init__()\n",
        "\n",
        "    def moveLowerLeft(self):\n",
        "        self.moveLeft()\n",
        "        self.moveDown()\n",
        "\n",
        "    def equals(self, classx):\n",
        "        if self.x == classx.x and self.y == classx.y:\n",
        "            return True\n",
        "        else:\n",
        "            return False\n",
        "\n",
        "\n",
        "print('Part 1')\n",
        "print('------')\n",
        "car = Vehicle()\n",
        "print(car)\n",
        "car.moveUp()\n",
        "print(car)\n",
        "car.moveLeft()\n",
        "print(car)\n",
        "car.moveDown()\n",
        "print(car)\n",
        "car.moveRight()\n",
        "print(car)\n",
        "print('------')\n",
        "print('Part 2')\n",
        "print('------')\n",
        "car1 = Vehicle2010()\n",
        "print(car1)\n",
        "car1.moveLowerLeft()\n",
        "print(car1)\n",
        "car2 = Vehicle2010()\n",
        "car2.moveLeft()\n",
        "print(car1.equals(car2))\n",
        "car2.moveDown()\n",
        "print(car1.equals(car2))\n",
        "print('------')\n"
      ],
      "metadata": {
        "colab": {
          "base_uri": "https://localhost:8080/"
        },
        "id": "DGzODAAyxtjg",
        "outputId": "6274fcfa-3a47-4de4-c308-ea9a15b7c2a9"
      },
      "execution_count": 7,
      "outputs": [
        {
          "output_type": "stream",
          "name": "stdout",
          "text": [
            "Part 1\n",
            "------\n",
            "(0 , 0)\n",
            "(0 , 1)\n",
            "(-1 , 1)\n",
            "(-1 , 0)\n",
            "(0 , 0)\n",
            "------\n",
            "Part 2\n",
            "------\n",
            "(0 , 0)\n",
            "(-1 , -1)\n",
            "False\n",
            "True\n",
            "------\n"
          ]
        }
      ]
    },
    {
      "cell_type": "code",
      "source": [
        "# solution of task 3\n",
        "class Tournament:\n",
        "    def __init__(self, name='Default'):\n",
        "        self.__name = name\n",
        "\n",
        "    def set_name(self, name):\n",
        "        self.__name = name\n",
        "\n",
        "    def get_name(self):\n",
        "        return self.__name\n",
        "\n",
        "\n",
        "# write your code here\n",
        "class Cricket_Tournament(Tournament):\n",
        "    def __init__(self, name='Default', n_team=0, type='No type'):\n",
        "        super(Cricket_Tournament, self).__init__(name)\n",
        "        self.number_of_team = n_team\n",
        "        self.type = type\n",
        "\n",
        "    def detail(self):\n",
        "        return f'Cricket Tournament Name: {self.get_name()}\\nNumber of Teams: {self.number_of_team}\\nType: {self.type}'\n",
        "\n",
        "\n",
        "class Tennis_Tournament(Cricket_Tournament):\n",
        "    def __init__(self, name, n_player):\n",
        "        super(Tennis_Tournament, self).__init__(name, n_player)\n",
        "\n",
        "    def detail(self):\n",
        "        return f'Tennis Tournament Name: {self.get_name()}\\nNumber of Players: {self.number_of_team}'\n",
        "\n",
        "\n",
        "ct1 = Cricket_Tournament()\n",
        "print(ct1.detail())\n",
        "print(\"-----------------------\")\n",
        "ct2 = Cricket_Tournament(\"IPL\", 10, \"t20\")\n",
        "print(ct2.detail())\n",
        "print(\"-----------------------\")\n",
        "tt = Tennis_Tournament(\"Roland Garros\", 128)\n",
        "print(tt.detail())\n"
      ],
      "metadata": {
        "colab": {
          "base_uri": "https://localhost:8080/"
        },
        "id": "PdN08Ustxtlz",
        "outputId": "f2343964-1ffb-4d45-fa6c-92ad8275fcdf"
      },
      "execution_count": 8,
      "outputs": [
        {
          "output_type": "stream",
          "name": "stdout",
          "text": [
            "Cricket Tournament Name: Default\n",
            "Number of Teams: 0\n",
            "Type: No type\n",
            "-----------------------\n",
            "Cricket Tournament Name: IPL\n",
            "Number of Teams: 10\n",
            "Type: t20\n",
            "-----------------------\n",
            "Tennis Tournament Name: Roland Garros\n",
            "Number of Players: 128\n"
          ]
        }
      ]
    },
    {
      "cell_type": "code",
      "source": [
        "# solution of task 4\n",
        "class Product:\n",
        "    def __init__(self, id, title, price):\n",
        "        self.__id = id\n",
        "        self.__title = title\n",
        "        self.__price = price\n",
        "\n",
        "    def get_id_title_price(self):\n",
        "        return \"ID: \" + str(self.__id) + \" Title: \" + self.__title + \" Price: \" + str(self.__price)\n",
        "\n",
        "\n",
        "# write your code here\n",
        "class Book(Product):\n",
        "    def __init__(self, id, title, price, num, Publisher):\n",
        "        super(Book, self).__init__(id, title, price)\n",
        "        self.num = num\n",
        "        self.Publisher = Publisher\n",
        "\n",
        "    def printDetail(self):\n",
        "        return self.get_id_title_price() + f'\\nISBN: {self.num} Publisher: {self.Publisher}'\n",
        "\n",
        "\n",
        "class CD(Book):\n",
        "    def __init__(self, id, title, price, band, Duration, Genre):\n",
        "        super(CD, self).__init__(id, title, price, Duration, band)\n",
        "        self.Genre = Genre\n",
        "\n",
        "    def printDetail(self):\n",
        "        return self.get_id_title_price() + f'\\nBand: {self.Publisher} Duration: {self.num}minutes\\nGenre: {self.Genre}'\n",
        "\n",
        "\n",
        "book = Book(1, \"The Alchemist\", 500, \"97806\", \"HarperCollins\")\n",
        "\n",
        "print(book.printDetail())\n",
        "print(\"-----------------------\")\n",
        "cd = CD(2, \"Shotto\", 300, \"Warfaze\", 50, \"Hard Rock\")\n",
        "print(cd.printDetail())\n"
      ],
      "metadata": {
        "colab": {
          "base_uri": "https://localhost:8080/"
        },
        "id": "aCt1KCYTxtoP",
        "outputId": "103e1207-72d1-49db-bef6-a95152f8e36a"
      },
      "execution_count": 9,
      "outputs": [
        {
          "output_type": "stream",
          "name": "stdout",
          "text": [
            "ID: 1 Title: The Alchemist Price: 500\n",
            "ISBN: 97806 Publisher: HarperCollins\n",
            "-----------------------\n",
            "ID: 2 Title: Shotto Price: 300\n",
            "Band: Warfaze Duration: 50minutes\n",
            "Genre: Hard Rock\n"
          ]
        }
      ]
    },
    {
      "cell_type": "code",
      "source": [
        "# solution of task 5\n",
        "class Animal:\n",
        "    def __init__(self, sound):\n",
        "        self.__sound = sound\n",
        "\n",
        "    def makeSound(self):\n",
        "        return self.__sound\n",
        "\n",
        "\n",
        "class Printer:\n",
        "    def printSound(self, a):\n",
        "        print(a.makeSound())\n",
        "\n",
        "\n",
        "class Dog(Animal):\n",
        "    pass\n",
        "\n",
        "\n",
        "class Cat(Animal):\n",
        "    pass\n",
        "\n",
        "\n",
        "# write your code here\n",
        "d1 = Dog('bark')\n",
        "c1 = Cat('meow')\n",
        "a1 = Animal('Animal does not make sound')\n",
        "pr = Printer()\n",
        "pr.printSound(a1)\n",
        "pr.printSound(c1)\n",
        "pr.printSound(d1)\n"
      ],
      "metadata": {
        "colab": {
          "base_uri": "https://localhost:8080/"
        },
        "id": "1dI1WnJQxtqz",
        "outputId": "1f72ebd1-00a2-4ac4-faf7-71b7286a02e7"
      },
      "execution_count": 10,
      "outputs": [
        {
          "output_type": "stream",
          "name": "stdout",
          "text": [
            "Animal does not make sound\n",
            "meow\n",
            "bark\n"
          ]
        }
      ]
    },
    {
      "cell_type": "code",
      "source": [
        "# solution of task 6\n",
        "class Shape:\n",
        "    def __init__(self, name='Default', height=0, base=0):\n",
        "        self.area = 0\n",
        "        self.name = name\n",
        "        self.height = height\n",
        "        self.base = base\n",
        "\n",
        "    def get_height_base(self):\n",
        "        return \"Height: \" + str(self.height) + \",Base: \" + str(self.base)\n",
        "\n",
        "\n",
        "# write your code here\n",
        "class triangle(Shape):\n",
        "    def calcArea(self):\n",
        "        self.area = (self.base * self.height) / 2\n",
        "\n",
        "    def printDetail(self):\n",
        "        return f'Shape name: {self.name} ' + '\\n' + self.get_height_base() + f'\\nArea: {self.area}'\n",
        "\n",
        "\n",
        "class trapezoid(triangle):\n",
        "    def __init__(self, name, height, base, side):\n",
        "        super(trapezoid, self).__init__(name, height, base)\n",
        "        self.side = side\n",
        "\n",
        "    def calcArea(self):\n",
        "        self.area = ((self.base + self.side) * self.height) / 2\n",
        "\n",
        "    def printDetail(self):\n",
        "        return f'Shape name: {self.name} ' + '\\n' + self.get_height_base() + f', Side_A: {self.side}\\nArea: {self.area}'\n",
        "\n",
        "\n",
        "tri_default = triangle()\n",
        "tri_default.calcArea()\n",
        "print(tri_default.printDetail())\n",
        "print('--------------------------')\n",
        "tri = triangle('Triangle', 10, 5)\n",
        "tri.calcArea()\n",
        "print(tri.printDetail())\n",
        "print('---------------------------')\n",
        "trap = trapezoid('Trapezoid', 10, 6, 4)\n",
        "trap.calcArea()\n",
        "print(trap.printDetail())\n"
      ],
      "metadata": {
        "colab": {
          "base_uri": "https://localhost:8080/"
        },
        "id": "COWxRTlGx08v",
        "outputId": "5c982b51-9386-45d0-ee3f-802f246d647b"
      },
      "execution_count": 11,
      "outputs": [
        {
          "output_type": "stream",
          "name": "stdout",
          "text": [
            "Shape name: Default \n",
            "Height: 0,Base: 0\n",
            "Area: 0.0\n",
            "--------------------------\n",
            "Shape name: Triangle \n",
            "Height: 10,Base: 5\n",
            "Area: 25.0\n",
            "---------------------------\n",
            "Shape name: Trapezoid \n",
            "Height: 10,Base: 6, Side_A: 4\n",
            "Area: 50.0\n"
          ]
        }
      ]
    },
    {
      "cell_type": "code",
      "source": [
        "# solution of task 7\n",
        "class Football:\n",
        "    def __init__(self, team_name, name, role):\n",
        "        self.__team = team_name\n",
        "        self.__name = name\n",
        "        self.role = role\n",
        "        self.earning_per_match = 0\n",
        "\n",
        "    def get_name_team(self):\n",
        "        return 'Name: ' + self.__name + ', Team Name: ' + self.__team\n",
        "\n",
        "\n",
        "# write your code here\n",
        "class Manager(Football):\n",
        "    def __init__(self, team_name, name, role, matches):\n",
        "        super(Manager, self).__init__(team_name, name, role)\n",
        "        self.matches = matches\n",
        "        self.earning_per_match = matches * 1000\n",
        "\n",
        "    def print_details(self):\n",
        "        print(self.get_name_team())\n",
        "        print(f'Team Role: {self.role}')\n",
        "        print(f'Total Win: {self.matches}')\n",
        "        print(f'Match Earning: {self.earning_per_match}K')\n",
        "\n",
        "\n",
        "class Player(Manager):\n",
        "    def __init__(self, team_name, name, role, goal, played):\n",
        "        super(Player, self).__init__(team_name, name, role, played)\n",
        "        self.goal = goal\n",
        "        self.earning_per_match = (self.goal * 1000) + (self.matches * 10)\n",
        "\n",
        "    def calculate_ratio(self):\n",
        "        return self.goal / self.matches\n",
        "\n",
        "    def print_details(self):\n",
        "        print(self.get_name_team())\n",
        "        print(f'Team Role: {self.role}')\n",
        "        print(f'Total Goal: {self.goal}, Total Played: {self.matches}')\n",
        "        print(f'Goal Ratio: {self.calculate_ratio()}')\n",
        "        print(f'Match Earning: {self.earning_per_match}K')\n",
        "\n",
        "\n",
        "player_one = Player('Juventus', 'Ronaldo', 'Striker', 25, 32)\n",
        "player_one.calculate_ratio()\n",
        "player_one.print_details()\n",
        "print('------------------------------------------')\n",
        "manager_one = Manager('Real Madrid', 'Zidane', 'Manager', 25)\n",
        "manager_one.print_details()\n"
      ],
      "metadata": {
        "colab": {
          "base_uri": "https://localhost:8080/"
        },
        "id": "S9vU1Wd7x1BT",
        "outputId": "87a969e3-50bc-4405-bcc8-3e57c2dfb2ad"
      },
      "execution_count": 12,
      "outputs": [
        {
          "output_type": "stream",
          "name": "stdout",
          "text": [
            "Name: Ronaldo, Team Name: Juventus\n",
            "Team Role: Striker\n",
            "Total Goal: 25, Total Played: 32\n",
            "Goal Ratio: 0.78125\n",
            "Match Earning: 25320K\n",
            "------------------------------------------\n",
            "Name: Zidane, Team Name: Real Madrid\n",
            "Team Role: Manager\n",
            "Total Win: 25\n",
            "Match Earning: 25000K\n"
          ]
        }
      ]
    }
  ]
}