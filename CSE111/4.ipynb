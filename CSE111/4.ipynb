{
  "nbformat": 4,
  "nbformat_minor": 0,
  "metadata": {
    "colab": {
      "name": "21301157_AHSAN_ULLAH_lab_assignment_4",
      "provenance": [],
      "collapsed_sections": []
    },
    "kernelspec": {
      "name": "python3",
      "display_name": "Python 3"
    },
    "language_info": {
      "name": "python"
    }
  },
  "cells": [
    {
      "cell_type": "code",
      "metadata": {
        "colab": {
          "base_uri": "https://localhost:8080/"
        },
        "id": "wNNMjQUtHsWO",
        "outputId": "ca4a38d9-1b7d-4290-ce21-fd8428a0b1b4"
      },
      "source": [
        "# solution to qustion no 1\n",
        "class Calculator:\n",
        "    def __init__(self):\n",
        "        print('Let’s Calculate!')\n",
        "        self.first_value = int(input('first value : '))\n",
        "        self.operator, = input('operator, : ')\n",
        "        self.second_value = int(input('second value : '))\n",
        "        print(f\"Value 1 : {self.first_value}\")\n",
        "        print(f\"Operator : {self.operator}\")\n",
        "        print(f\"Value 2 : {self.second_value}\")\n",
        "\n",
        "    def add(self):\n",
        "        print('result:', self.first_value + self.second_value)\n",
        "\n",
        "    def subtract(self):\n",
        "        print('result:', self.first_value - self.second_value)\n",
        "\n",
        "    def multiply(self):\n",
        "        print('result:', self.first_value * self.second_value)\n",
        "\n",
        "    def divide(self):\n",
        "        print('result:', self.first_value / self.second_value)\n",
        "\n",
        "\n",
        "calculation = Calculator()\n",
        "calculation.add()\n",
        "# calculation.subtract()\n",
        "# calculation.multiply()\n",
        "# calculation.divide()\n"
      ],
      "execution_count": 1,
      "outputs": [
        {
          "output_type": "stream",
          "name": "stdout",
          "text": [
            "Let’s Calculate!\n",
            "first value : 55\n",
            "operator, : +\n",
            "second value : 5\n",
            "Value 1 : 55\n",
            "Operator : +\n",
            "Value 2 : 5\n",
            "result: 60\n"
          ]
        }
      ]
    },
    {
      "cell_type": "code",
      "metadata": {
        "colab": {
          "base_uri": "https://localhost:8080/"
        },
        "id": "9AM3k2blIAPV",
        "outputId": "74b4d00a-cb1e-4f73-b565-de9bc5470399"
      },
      "source": [
        "# solution to qustion no 2\n",
        "class Customer:\n",
        "    def __init__(self, name):\n",
        "        self.name = name\n",
        "\n",
        "    def greet(self, name=None):\n",
        "        if name == None:\n",
        "            print('Hello!')\n",
        "        else:\n",
        "            print('Hello!', name)\n",
        "\n",
        "    def purchase(self, *purchase):\n",
        "        print(f'{self.name}, you purchased {len(purchase)} item(s):')\n",
        "        for var in purchase:\n",
        "            print(var)\n",
        "\n",
        "\n",
        "customer_1 = Customer(\"Sam\")\n",
        "customer_1.greet()\n",
        "customer_1.purchase(\"chips\", \"chocolate\", \"orange juice\")\n",
        "print(\"-----------------------------\")\n",
        "customer_2 = Customer(\"David\")\n",
        "customer_2.greet(\"David\")\n",
        "customer_2.purchase(\"orange juice\")\n"
      ],
      "execution_count": 2,
      "outputs": [
        {
          "output_type": "stream",
          "name": "stdout",
          "text": [
            "Hello!\n",
            "Sam, you purchased 3 item(s):\n",
            "chips\n",
            "chocolate\n",
            "orange juice\n",
            "-----------------------------\n",
            "Hello! David\n",
            "David, you purchased 1 item(s):\n",
            "orange juice\n"
          ]
        }
      ]
    },
    {
      "cell_type": "code",
      "metadata": {
        "colab": {
          "base_uri": "https://localhost:8080/"
        },
        "id": "iYkRwMKTIARC",
        "outputId": "5f6f8b50-b520-4098-db28-01d9cc820bd7"
      },
      "source": [
        "# solution to qustion no 3\n",
        "class Panda:\n",
        "    def __init__(self, name, gender, age):\n",
        "        self.name = name\n",
        "        self.gender = gender\n",
        "        self.age = age\n",
        "\n",
        "    def sleep(self, sleep_hours=None):\n",
        "        if sleep_hours == None:\n",
        "            return f'{self.name}\\'s duration is unknown thus should have only bamboo leaves'\n",
        "        elif 3 <= sleep_hours and sleep_hours <= 5:\n",
        "            return f'{self.name}sleeps {sleep_hours} hours daily and should have Mixed Veggies.'\n",
        "        elif 6 <= sleep_hours and sleep_hours <= 8:\n",
        "            return f'{self.name}sleeps {sleep_hours} hours daily and should have Eggplant & Tofu.'\n",
        "        elif 9 <= sleep_hours and sleep_hours <= 11:\n",
        "            return f'{self.name}sleeps {sleep_hours} hours daily and should have Broccoli Chicken.'\n",
        "\n",
        "\n",
        "panda1 = Panda(\"Kunfu\", \"Male\", 5)\n",
        "panda2 = Panda(\"Pan Pan\", \"Female\", 3)\n",
        "panda3 = Panda(\"Ming Ming\", \"Female\", 8)\n",
        "print(\"{} is a {} Panda Bear who is {} years old\".format(panda1.name, panda1.gender, panda1.age))\n",
        "print(\"{} is a {} Panda Bear who is {} years old\".format(panda2.name, panda2.gender, panda2.age))\n",
        "print(\"{} is a {} Panda Bear who is {} years old\".format(panda3.name, panda3.gender, panda3.age))\n",
        "print(\"===========================\")\n",
        "print(panda2.sleep(10))\n",
        "print(panda1.sleep(4))\n",
        "print(panda3.sleep())\n"
      ],
      "execution_count": 3,
      "outputs": [
        {
          "output_type": "stream",
          "name": "stdout",
          "text": [
            "Kunfu is a Male Panda Bear who is 5 years old\n",
            "Pan Pan is a Female Panda Bear who is 3 years old\n",
            "Ming Ming is a Female Panda Bear who is 8 years old\n",
            "===========================\n",
            "Pan Pansleeps 10 hours daily and should have Broccoli Chicken.\n",
            "Kunfusleeps 4 hours daily and should have Mixed Veggies.\n",
            "Ming Ming's duration is unknown thus should have only bamboo leaves\n"
          ]
        }
      ]
    },
    {
      "cell_type": "code",
      "metadata": {
        "colab": {
          "base_uri": "https://localhost:8080/"
        },
        "id": "_urc_gtZIAUS",
        "outputId": "bd21dc41-3318-4d31-bbd5-a1c4226cb33f"
      },
      "source": [
        "# solution to qustion no 4\n",
        "class Cat:\n",
        "    def __init__(self, color='White', action='sitting'):\n",
        "        self.color = color\n",
        "        self.action = action\n",
        "        print(f'{color} cat is {action}')\n",
        "\n",
        "    def printCat(self):\n",
        "        pass\n",
        "\n",
        "    def changeColor(self, new_color):\n",
        "        self.color = new_color\n",
        "        print(f'{new_color} cat is {self.action}')\n",
        "\n",
        "\n",
        "c1 = Cat()\n",
        "c2 = Cat(\"Black\")\n",
        "c3 = Cat(\"Brown\", \"jumping\")\n",
        "c4 = Cat(\"Red\", \"purring\")\n",
        "c1.printCat()\n",
        "c2.printCat()\n",
        "c3.printCat()\n",
        "c4.printCat()\n",
        "c1.changeColor(\"Blue\")\n",
        "c3.changeColor(\"Purple\")\n",
        "c1.printCat()\n",
        "c3.printCat()\n"
      ],
      "execution_count": 1,
      "outputs": [
        {
          "output_type": "stream",
          "name": "stdout",
          "text": [
            "White cat is sitting\n",
            "Black cat is sitting\n",
            "Brown cat is jumping\n",
            "Red cat is purring\n",
            "Blue cat is sitting\n",
            "Purple cat is jumping\n"
          ]
        }
      ]
    },
    {
      "cell_type": "code",
      "metadata": {
        "colab": {
          "base_uri": "https://localhost:8080/"
        },
        "id": "morlAZ49IAV-",
        "outputId": "6a270723-e078-4ac5-c2ae-55c8cfb9ec26"
      },
      "source": [
        "# solution to qustion no 5\n",
        "class Student:\n",
        "    result = None\n",
        "\n",
        "    def __init__(self, name='default student'):\n",
        "        self.name = name\n",
        "\n",
        "    def quizcalc(self, num1=None, num2=None, num3=None):\n",
        "        global result\n",
        "        var = 0\n",
        "        if num2 == None and num3 == None:\n",
        "            var = num1\n",
        "        elif num3 == None:\n",
        "            var = num1 + num2\n",
        "        elif num1 == None:\n",
        "            print('you did not give any value for the quiz')\n",
        "        else:\n",
        "            var = num1 + num2 + num3\n",
        "        result = var / 3\n",
        "\n",
        "    def printdetail(self):\n",
        "        print(f'Hello {self.name}')\n",
        "        print(f'Your average quiz score is {result}')\n",
        "\n",
        "\n",
        "s1 = Student()\n",
        "s1.quizcalc(10)\n",
        "print('--------------------------------')\n",
        "s1.printdetail()\n",
        "s2 = Student('Harry')\n",
        "s2.quizcalc(10, 8)\n",
        "print('--------------------------------')\n",
        "s2.printdetail()\n",
        "s3 = Student('Hermione')\n",
        "s3.quizcalc(10, 9, 10)\n",
        "print('--------------------------------')\n",
        "s3.printdetail()\n"
      ],
      "execution_count": 2,
      "outputs": [
        {
          "output_type": "stream",
          "name": "stdout",
          "text": [
            "--------------------------------\n",
            "Hello default student\n",
            "Your average quiz score is 3.3333333333333335\n",
            "--------------------------------\n",
            "Hello Harry\n",
            "Your average quiz score is 6.0\n",
            "--------------------------------\n",
            "Hello Hermione\n",
            "Your average quiz score is 9.666666666666666\n"
          ]
        }
      ]
    },
    {
      "cell_type": "code",
      "metadata": {
        "colab": {
          "base_uri": "https://localhost:8080/"
        },
        "id": "naHK9U5aIAZP",
        "outputId": "06d06747-832b-4508-a4df-8d643f3af051"
      },
      "source": [
        "# solution to qustion no 6\n",
        "class Vehicle:\n",
        "    def __init__(self, x=0, y=0):\n",
        "        self.x = x\n",
        "        self.y = y\n",
        "\n",
        "    def moveUp(self):\n",
        "        self.y += 1\n",
        "\n",
        "    def moveDown(self):\n",
        "        self.y -= 1\n",
        "\n",
        "    def moveLeft(self):\n",
        "        self.x -= 1\n",
        "\n",
        "    def moveRight(self):\n",
        "        self.x += 1\n",
        "\n",
        "    def print_position(self):\n",
        "        print(f'({self.x},{self.y})')\n",
        "\n",
        "\n",
        "car = Vehicle()\n",
        "car.print_position()\n",
        "car.moveUp()\n",
        "car.print_position()\n",
        "car.moveLeft()\n",
        "car.print_position()\n",
        "car.moveDown()\n",
        "car.print_position()\n",
        "car.moveRight()\n"
      ],
      "execution_count": 4,
      "outputs": [
        {
          "output_type": "stream",
          "name": "stdout",
          "text": [
            "(0,0)\n",
            "(0,1)\n",
            "(-1,1)\n",
            "(-1,0)\n"
          ]
        }
      ]
    },
    {
      "cell_type": "code",
      "metadata": {
        "colab": {
          "base_uri": "https://localhost:8080/"
        },
        "id": "24mtJ3nzIAa2",
        "outputId": "4b150cf2-8fe4-4d3b-9315-95a61c751be3"
      },
      "source": [
        "# solution to qustion no 7\n",
        "class Programmer:\n",
        "    def __init__(self, name, lang_name, exp):\n",
        "        self.name = name\n",
        "        self.language_namr = lang_name\n",
        "        self.exp = exp\n",
        "        print('Horray! A new programmer is born')\n",
        "\n",
        "    def addExp(self, exp):\n",
        "        self.exp += exp\n",
        "        print(f'Updating experience of {self.name}')\n",
        "\n",
        "    def printDetails(self):\n",
        "        print(\n",
        "            f'Name: {self.name} \\nLanguage: {self.language_namr} \\nExperience: {self.exp} years.')\n",
        "\n",
        "\n",
        "p1 = Programmer(\"Ethen Hunt\", \"Java\", 10)\n",
        "p1.printDetails()\n",
        "print('--------------------------')\n",
        "p2 = Programmer(\"James Bond\", \"C++\", 7)\n",
        "p2.printDetails()\n",
        "print('--------------------------')\n",
        "p3 = Programmer(\"Jon Snow\", \"Python\", 4)\n",
        "p3.printDetails()\n",
        "p3.addExp(5)\n",
        "p3.printDetails()\n"
      ],
      "execution_count": 5,
      "outputs": [
        {
          "output_type": "stream",
          "name": "stdout",
          "text": [
            "Horray! A new programmer is born\n",
            "Name: Ethen Hunt \n",
            "Language: Java \n",
            "Experience: 10 years.\n",
            "--------------------------\n",
            "Horray! A new programmer is born\n",
            "Name: James Bond \n",
            "Language: C++ \n",
            "Experience: 7 years.\n",
            "--------------------------\n",
            "Horray! A new programmer is born\n",
            "Name: Jon Snow \n",
            "Language: Python \n",
            "Experience: 4 years.\n",
            "Updating experience of Jon Snow\n",
            "Name: Jon Snow \n",
            "Language: Python \n",
            "Experience: 9 years.\n"
          ]
        }
      ]
    },
    {
      "cell_type": "code",
      "metadata": {
        "colab": {
          "base_uri": "https://localhost:8080/"
        },
        "id": "QdQHBMBPIAeZ",
        "outputId": "d5aaa2b6-e27c-4057-a94c-f8a1e263abfd"
      },
      "source": [
        "# solution to qustion no 8\n",
        "class Student:\n",
        "    def __init__(self, name, id, department='CSE'):\n",
        "        self.name = name\n",
        "        self.id = id\n",
        "        self.department = department\n",
        "\n",
        "    def dailyEffort(self, hours):\n",
        "        self.effort = hours\n",
        "\n",
        "    def printDetails(self):\n",
        "        print(f'Name: {self.name}')\n",
        "        print(f'ID: {self.id}')\n",
        "        print(f'Department: {self.department}')\n",
        "        print(f'Daily Effort: {self.effort} hour(s)')\n",
        "        if self.effort <= 2:\n",
        "            print('Suggestion: Should give more effort!')\n",
        "        elif 2 < self.effort <= 4:\n",
        "            print('Suggestion: Keep up the good work!')\n",
        "        else:\n",
        "            print('Suggestion: Excellent! Now motivate others.')\n",
        "\n",
        "\n",
        "harry = Student('Harry Potter', 123)\n",
        "harry.dailyEffort(3)\n",
        "harry.printDetails()\n",
        "print('========================')\n",
        "john = Student(\"John Wick\", 456, \"BBA\")\n",
        "john.dailyEffort(2)\n",
        "john.printDetails()\n",
        "print('========================')\n",
        "naruto = Student(\"Naruto Uzumaki\", 777, \"Ninja\")\n",
        "naruto.dailyEffort(6)\n",
        "naruto.printDetails()\n"
      ],
      "execution_count": 6,
      "outputs": [
        {
          "output_type": "stream",
          "name": "stdout",
          "text": [
            "Name: Harry Potter\n",
            "ID: 123\n",
            "Department: CSE\n",
            "Daily Effort: 3 hour(s)\n",
            "Suggestion: Keep up the good work!\n",
            "========================\n",
            "Name: John Wick\n",
            "ID: 456\n",
            "Department: BBA\n",
            "Daily Effort: 2 hour(s)\n",
            "Suggestion: Should give more effort!\n",
            "========================\n",
            "Name: Naruto Uzumaki\n",
            "ID: 777\n",
            "Department: Ninja\n",
            "Daily Effort: 6 hour(s)\n",
            "Suggestion: Excellent! Now motivate others.\n"
          ]
        }
      ]
    },
    {
      "cell_type": "code",
      "metadata": {
        "colab": {
          "base_uri": "https://localhost:8080/"
        },
        "id": "epcGZJQYIAf9",
        "outputId": "2be87f80-1072-4caa-9a47-aca3e474a86a"
      },
      "source": [
        "# solution to qustion no 9\n",
        "class Patient:\n",
        "    def __init__(self, name, age):\n",
        "        self.name = name\n",
        "        self.age = age\n",
        "\n",
        "    def add_Symptom(self, *symptom):\n",
        "        self.symptom = symptom\n",
        "\n",
        "    def printPatientDetail(self):\n",
        "        print(f'Name: {self.name}')\n",
        "        print(f'Age: {self.age}')\n",
        "        print('Symptoms:', end='')\n",
        "        for var in range(len(self.symptom)):\n",
        "            if var == len(self.symptom) - 1:\n",
        "                print(self.symptom[var])\n",
        "            else:\n",
        "                print(self.symptom[var], end=', ')\n",
        "\n",
        "\n",
        "p1 = Patient('Thomas', 23)\n",
        "p1.add_Symptom('Headache')\n",
        "p2 = Patient('Carol', 20)\n",
        "p2.add_Symptom('Vomiting', 'Coughing')\n",
        "p3 = Patient('Mike', 25)\n",
        "p3.add_Symptom('Fever', 'Headache', 'Coughing')\n",
        "print(\"=========================\")\n",
        "p1.printPatientDetail()\n",
        "print(\"=========================\")\n",
        "p2.printPatientDetail()\n",
        "print(\"=========================\")\n",
        "p3.printPatientDetail()\n",
        "print(\"=========================\")\n"
      ],
      "execution_count": 7,
      "outputs": [
        {
          "output_type": "stream",
          "name": "stdout",
          "text": [
            "=========================\n",
            "Name: Thomas\n",
            "Age: 23\n",
            "Symptoms:Headache\n",
            "=========================\n",
            "Name: Carol\n",
            "Age: 20\n",
            "Symptoms:Vomiting, Coughing\n",
            "=========================\n",
            "Name: Mike\n",
            "Age: 25\n",
            "Symptoms:Fever, Headache, Coughing\n",
            "=========================\n"
          ]
        }
      ]
    },
    {
      "cell_type": "code",
      "metadata": {
        "colab": {
          "base_uri": "https://localhost:8080/"
        },
        "id": "CEoZirzoIAjo",
        "outputId": "783a271c-f4e1-4343-9091-47c0393da1b7"
      },
      "source": [
        "# solution to qustion no 10\n",
        "class Avengers:\n",
        "    def __init__(self, name, partnername):\n",
        "        self.name = name\n",
        "        self.partnername = partnername\n",
        "\n",
        "    def super_powers(self, *super_pow):\n",
        "        self.super_power = super_pow\n",
        "\n",
        "    def printAvengersDetail(self):\n",
        "        print(f'Name: {self.name}')\n",
        "        print(f'Partner: {self.partnername}')\n",
        "        print(f'Super powers:')\n",
        "        for var in range(len(self.super_power)):\n",
        "            if var == len(self.super_power) - 1:\n",
        "                print(self.super_power[var])\n",
        "            else:\n",
        "                print(self.super_power[var], end=', ')\n",
        "\n",
        "\n",
        "a1 = Avengers('Captain America', 'Bucky Barnes')\n",
        "a1.super_powers('Stamina', 'Slowed ageing')\n",
        "a2 = Avengers('Doctor Strange', 'Ancient One')\n",
        "a2.super_powers('Mastery of magic')\n",
        "a3 = Avengers('Iron Man', 'War Machine')\n",
        "a3.super_powers('Genius level intellect', 'Scientist ')\n",
        "print(\"=========================\")\n",
        "a1.printAvengersDetail()\n",
        "print(\"=========================\")\n",
        "a2.printAvengersDetail()\n",
        "print(\"=========================\")\n",
        "a3.printAvengersDetail()\n",
        "print(\"=========================\")\n"
      ],
      "execution_count": 1,
      "outputs": [
        {
          "output_type": "stream",
          "name": "stdout",
          "text": [
            "=========================\n",
            "Name: Captain America\n",
            "Partner: Bucky Barnes\n",
            "Super powers:\n",
            "Stamina, Slowed ageing\n",
            "=========================\n",
            "Name: Doctor Strange\n",
            "Partner: Ancient One\n",
            "Super powers:\n",
            "Mastery of magic\n",
            "=========================\n",
            "Name: Iron Man\n",
            "Partner: War Machine\n",
            "Super powers:\n",
            "Genius level intellect, Scientist \n",
            "=========================\n"
          ]
        }
      ]
    },
    {
      "cell_type": "code",
      "metadata": {
        "colab": {
          "base_uri": "https://localhost:8080/"
        },
        "id": "hcg9Uic_IAlW",
        "outputId": "31a15ea0-ab92-4726-f7a7-53997f6fb739"
      },
      "source": [
        "# solution to qustion no 11\n",
        "class Shinobi:\n",
        "    def __init__(self, name, rank, salary=0, mission=0):\n",
        "        self.name = name\n",
        "        self.rank = rank\n",
        "        self.salary = salary\n",
        "        self.mission = mission\n",
        "\n",
        "    def changeRank(self, rank):\n",
        "        self.rank = rank\n",
        "\n",
        "    def calSalary(self, mission):\n",
        "        self.mission = mission\n",
        "        if self.rank == 'Genin':\n",
        "            self.salary = self.mission * 50\n",
        "        elif self.rank == 'Chunin':\n",
        "            self.salary = self.mission * 100\n",
        "        else:\n",
        "            self.salary = self.mission * 500\n",
        "\n",
        "    def printInfo(self):\n",
        "        print(f'Name: {self.name}')\n",
        "        print(f'Rank: {self.rank}')\n",
        "        print(f'Number of mission: {self.mission}')\n",
        "        print(f'Salary:{self.salary}')\n",
        "\n",
        "\n",
        "naruto = Shinobi(\"Naruto\", \"Genin\")\n",
        "naruto.calSalary(5)\n",
        "naruto.printInfo()\n",
        "print('====================')\n",
        "shikamaru = Shinobi('Shikamaru', \"Genin\")\n",
        "shikamaru.printInfo()\n",
        "shikamaru.changeRank(\"Chunin\")\n",
        "shikamaru.calSalary(10)\n",
        "shikamaru.printInfo()\n",
        "print('====================')\n",
        "neiji = Shinobi(\"Neiji\", \"Jonin\")\n",
        "neiji.calSalary(5)\n",
        "neiji.printInfo()\n"
      ],
      "execution_count": 2,
      "outputs": [
        {
          "output_type": "stream",
          "name": "stdout",
          "text": [
            "Name: Naruto\n",
            "Rank: Genin\n",
            "Number of mission: 5\n",
            "Salary:250\n",
            "====================\n",
            "Name: Shikamaru\n",
            "Rank: Genin\n",
            "Number of mission: 0\n",
            "Salary:0\n",
            "Name: Shikamaru\n",
            "Rank: Chunin\n",
            "Number of mission: 10\n",
            "Salary:1000\n",
            "====================\n",
            "Name: Neiji\n",
            "Rank: Jonin\n",
            "Number of mission: 5\n",
            "Salary:2500\n"
          ]
        }
      ]
    },
    {
      "cell_type": "code",
      "metadata": {
        "colab": {
          "base_uri": "https://localhost:8080/"
        },
        "id": "nNtINqMsIApF",
        "outputId": "bfbd8a8c-8940-4330-86bf-e095dfa92a38"
      },
      "source": [
        "# solution to qustion no 12\n",
        "class ParcelKoro:\n",
        "    def __init__(self, name='No name set', product_weight=0):\n",
        "        self.name = name\n",
        "        self.product_weight = product_weight\n",
        "\n",
        "    def calculateFee(self, location_charge=None):\n",
        "        if location_charge != None:\n",
        "            location_charge = 100\n",
        "        else:\n",
        "            location_charge = 50\n",
        "        if self.product_weight != 0:\n",
        "            self.total_fee = (self.product_weight * 20) + location_charge\n",
        "        else:\n",
        "            self.total_fee = 0\n",
        "\n",
        "    def printDetails(self):\n",
        "        print(f'Customer Name: {self.name}')\n",
        "        print(f'Product Weight: {self.product_weight}')\n",
        "        print(f'Total fee: {self.total_fee}')\n",
        "\n",
        "\n",
        "print(\"**********************\")\n",
        "p1 = ParcelKoro()\n",
        "p1.calculateFee()\n",
        "p1.printDetails()\n",
        "print(\"**********************\")\n",
        "p2 = ParcelKoro('Bob The Builder')\n",
        "p2.calculateFee()\n",
        "p2.printDetails()\n",
        "print(\"----------------------------\")\n",
        "p2.product_weight = 15\n",
        "p2.calculateFee()\n",
        "p2.printDetails()\n",
        "print(\"**********************\")\n",
        "p3 = ParcelKoro('Dora The Explorer', 10)\n",
        "p3.calculateFee('Dhanmondi')\n",
        "p3.printDetails()\n"
      ],
      "execution_count": 3,
      "outputs": [
        {
          "output_type": "stream",
          "name": "stdout",
          "text": [
            "**********************\n",
            "Customer Name: No name set\n",
            "Product Weight: 0\n",
            "Total fee: 0\n",
            "**********************\n",
            "Customer Name: Bob The Builder\n",
            "Product Weight: 0\n",
            "Total fee: 0\n",
            "----------------------------\n",
            "Customer Name: Bob The Builder\n",
            "Product Weight: 15\n",
            "Total fee: 350\n",
            "**********************\n",
            "Customer Name: Dora The Explorer\n",
            "Product Weight: 10\n",
            "Total fee: 300\n"
          ]
        }
      ]
    },
    {
      "cell_type": "code",
      "metadata": {
        "colab": {
          "base_uri": "https://localhost:8080/"
        },
        "id": "rl9tJ49ZIAqr",
        "outputId": "1c397d76-0751-4d3b-c9bd-074a36f456bf"
      },
      "source": [
        "# solution to qustion no 13\n",
        "class Batsman:\n",
        "    def __init__(self, *args):\n",
        "        if type(args[0]) == type('abcd'):\n",
        "            self.name = args[0]\n",
        "            self.runsScored = args[1]\n",
        "            self.ballsFaced = args[2]\n",
        "        else:\n",
        "            self.name = 'New Batsman'\n",
        "            self.runsScored = args[0]\n",
        "            self.ballsFaced = args[1]\n",
        "\n",
        "    def printCareerStatistics(self):\n",
        "        print(f'Name: {self.name}')\n",
        "        print(f'Runs Scored: {self.runsScored} , Balls Faced: {self.ballsFaced}')\n",
        "\n",
        "    def battingStrikeRate(self):\n",
        "        return (self.runsScored / self.ballsFaced) * 100\n",
        "\n",
        "    def setName(self, name):\n",
        "        self.name = name\n",
        "\n",
        "\n",
        "b1 = Batsman(6101, 7380)\n",
        "b1.printCareerStatistics()\n",
        "print(\"============================\")\n",
        "b2 = Batsman(\"Liton Das\", 678, 773)\n",
        "b2.printCareerStatistics()\n",
        "print(\"----------------------------\")\n",
        "print(b2.battingStrikeRate())\n",
        "print(\"============================\")\n",
        "b1.setName(\"Shakib Al Hasan\")\n",
        "b1.printCareerStatistics()\n",
        "print(\"----------------------------\")\n",
        "print(b1.battingStrikeRate())\n"
      ],
      "execution_count": 4,
      "outputs": [
        {
          "output_type": "stream",
          "name": "stdout",
          "text": [
            "Name: New Batsman\n",
            "Runs Scored: 6101 , Balls Faced: 7380\n",
            "============================\n",
            "Name: Liton Das\n",
            "Runs Scored: 678 , Balls Faced: 773\n",
            "----------------------------\n",
            "87.71021992238033\n",
            "============================\n",
            "Name: Shakib Al Hasan\n",
            "Runs Scored: 6101 , Balls Faced: 7380\n",
            "----------------------------\n",
            "82.66937669376694\n"
          ]
        }
      ]
    },
    {
      "cell_type": "code",
      "metadata": {
        "colab": {
          "base_uri": "https://localhost:8080/"
        },
        "id": "Or9bsf_1IaNM",
        "outputId": "61df0be0-b9ea-4c5e-d923-c4697ee2a7f7"
      },
      "source": [
        "# solution to qustion no 14\n",
        "class EPL_Team:\n",
        "    def __init__(self, name, Song=\"No Slogan\"):\n",
        "        self.name = name\n",
        "        self.Song = Song\n",
        "        self.No_of_title = 0\n",
        "\n",
        "    def showClubInfo(self):\n",
        "        return f'Name: {self.name}\\nSong: {self.Song}\\nTotal No of title: {self.No_of_title}'\n",
        "\n",
        "    def increaseTitle(self):\n",
        "        self.No_of_title += 1\n",
        "\n",
        "    def changeSong(self, newSong):\n",
        "        self.Song = newSong\n",
        "\n",
        "\n",
        "manu = EPL_Team('Manchester United', 'Glory Glory Man United')\n",
        "chelsea = EPL_Team('Chelsea')\n",
        "print('===================')\n",
        "print(manu.showClubInfo())\n",
        "print('##################')\n",
        "manu.increaseTitle()\n",
        "print(manu.showClubInfo())\n",
        "print('===================')\n",
        "print(chelsea.showClubInfo())\n",
        "chelsea.changeSong('Keep the blue flag flying high')\n",
        "print(chelsea.showClubInfo())\n"
      ],
      "execution_count": 5,
      "outputs": [
        {
          "output_type": "stream",
          "name": "stdout",
          "text": [
            "===================\n",
            "Name: Manchester United\n",
            "Song: Glory Glory Man United\n",
            "Total No of title: 0\n",
            "##################\n",
            "Name: Manchester United\n",
            "Song: Glory Glory Man United\n",
            "Total No of title: 1\n",
            "===================\n",
            "Name: Chelsea\n",
            "Song: No Slogan\n",
            "Total No of title: 0\n",
            "Name: Chelsea\n",
            "Song: Keep the blue flag flying high\n",
            "Total No of title: 0\n"
          ]
        }
      ]
    },
    {
      "cell_type": "code",
      "metadata": {
        "colab": {
          "base_uri": "https://localhost:8080/"
        },
        "id": "CH4A1TUoIaPq",
        "outputId": "16b00083-b054-46c4-a136-b17099ce6015"
      },
      "source": [
        "# solution to qustion no 15\n",
        "class Account:\n",
        "    def __init__(self, name='Default Account', balance=0):\n",
        "        self.name = name\n",
        "        self.balance = balance\n",
        "\n",
        "    def details(self):\n",
        "        return f'{self.name}\\n{float(self.balance)}'\n",
        "\n",
        "    def withdraw(self, num):\n",
        "        max_wid = self.balance * (69.3 / 100)\n",
        "        if max_wid >= num:\n",
        "            self.balance = self.balance - num\n",
        "            print(f'Withdraw successful! New balance is: {self.balance}')\n",
        "        elif max_wid <= num:\n",
        "            print(\n",
        "                'Sorry, Withdraw unsuccessful! The account balance after deducting withdraw amount is equal to or less than minimum.')\n",
        "\n",
        "\n",
        "a1 = Account()\n",
        "print(a1.details())\n",
        "print(\"------------------------\")\n",
        "a1.name = \"Oliver\"\n",
        "a1.balance = 10000.0\n",
        "print(a1.details())\n",
        "print(\"------------------------\")\n",
        "a2 = Account(\"Liam\")\n",
        "print(a2.details())\n",
        "print(\"------------------------\")\n",
        "a3 = Account(\"Noah\", 400)\n",
        "print(a3.details())\n",
        "print(\"------------------------\")\n",
        "a1.withdraw(6930)\n",
        "print(\"------------------------\")\n",
        "a2.withdraw(600)\n",
        "print(\"------------------------\")\n",
        "a1.withdraw(6929)\n"
      ],
      "execution_count": 6,
      "outputs": [
        {
          "output_type": "stream",
          "name": "stdout",
          "text": [
            "Default Account\n",
            "0.0\n",
            "------------------------\n",
            "Oliver\n",
            "10000.0\n",
            "------------------------\n",
            "Liam\n",
            "0.0\n",
            "------------------------\n",
            "Noah\n",
            "400.0\n",
            "------------------------\n",
            "Sorry, Withdraw unsuccessful! The account balance after deducting withdraw amount is equal to or less than minimum.\n",
            "------------------------\n",
            "Sorry, Withdraw unsuccessful! The account balance after deducting withdraw amount is equal to or less than minimum.\n",
            "------------------------\n",
            "Withdraw successful! New balance is: 3071.0\n"
          ]
        }
      ]
    },
    {
      "cell_type": "code",
      "metadata": {
        "colab": {
          "base_uri": "https://localhost:8080/"
        },
        "id": "mcwAkzsCIaSW",
        "outputId": "25ae5cde-ca22-4ae7-98be-7beb953ea403"
      },
      "source": [
        "# solution to qustion no 16\n",
        "class Author:\n",
        "    def __init__(self, name='Default', *books):\n",
        "        self.name = name\n",
        "        self.books = books\n",
        "\n",
        "    def addBooks(self, *new_books):\n",
        "        temp = list(new_books)\n",
        "        var = list(self.books)\n",
        "        new_list = temp + var\n",
        "        self.books = tuple(new_list)\n",
        "\n",
        "    def printDetails(self):\n",
        "        print(f'Author Name: {self.name}')\n",
        "        print('--------')\n",
        "        print('List of Books:')\n",
        "        for var in range(len(self.books)):\n",
        "            print(self.books[var])\n",
        "\n",
        "    def changeName(self, new_name):\n",
        "        self.name = new_name\n",
        "\n",
        "\n",
        "auth1 = Author('Humayun Ahmed')\n",
        "auth1.addBooks('Deyal', 'Megher Opor Bari')\n",
        "auth1.printDetails()\n",
        "print('== == == == == == == == == =')\n",
        "auth2 = Author()\n",
        "print(auth2.name)\n",
        "auth2.changeName('Mario Puzo')\n",
        "auth2.addBooks('The Godfather', 'Omerta', 'The Sicilian')\n",
        "print('== == == == == == == == == =')\n",
        "auth2.printDetails()\n",
        "print('== == == == == == == == == =')\n",
        "auth3 = Author('Paolo Coelho', 'The Alchemist', 'The Fifth Mountain')\n",
        "auth3.printDetails()\n"
      ],
      "execution_count": 7,
      "outputs": [
        {
          "output_type": "stream",
          "name": "stdout",
          "text": [
            "Author Name: Humayun Ahmed\n",
            "--------\n",
            "List of Books:\n",
            "Deyal\n",
            "Megher Opor Bari\n",
            "== == == == == == == == == =\n",
            "Default\n",
            "== == == == == == == == == =\n",
            "Author Name: Mario Puzo\n",
            "--------\n",
            "List of Books:\n",
            "The Godfather\n",
            "Omerta\n",
            "The Sicilian\n",
            "== == == == == == == == == =\n",
            "Author Name: Paolo Coelho\n",
            "--------\n",
            "List of Books:\n",
            "The Alchemist\n",
            "The Fifth Mountain\n"
          ]
        }
      ]
    }
  ]
}