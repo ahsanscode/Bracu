{
  "nbformat": 4,
  "nbformat_minor": 0,
  "metadata": {
    "colab": {
      "name": "Untitled0.ipynb",
      "provenance": [],
      "collapsed_sections": []
    },
    "kernelspec": {
      "name": "python3",
      "display_name": "Python 3"
    },
    "language_info": {
      "name": "python"
    }
  },
  "cells": [
    {
      "cell_type": "code",
      "metadata": {
        "colab": {
          "base_uri": "https://localhost:8080/"
        },
        "id": "5ntXYf6r4g5H",
        "outputId": "f10492f3-ca13-4dba-ddce-d76428d00f5c"
      },
      "source": [
        "# Solution of task 1\n",
        "class Marks:\n",
        "    def __init__(self, mark):\n",
        "        self.mark = mark\n",
        "\n",
        "    def __add__(self, other):\n",
        "        tempx = self.mark + other.mark\n",
        "        temp = Marks(tempx)\n",
        "        return temp\n",
        "\n",
        "\n",
        "Q1 = Marks(int(input(\"Quiz 1 (out of 10): \")))\n",
        "Q2 = Marks(int(input(\"Quiz 2 (out of 10): \")))\n",
        "Lab = Marks(int(input(\"Lab (out of 30): \")))\n",
        "Mid = Marks(int(input(\"Mid (out of 20): \")))\n",
        "Final = Marks(int(input(\"Final (out of 30): \")))\n",
        "total = Q1 + Q2 + Lab + Mid + Final\n",
        "print(\"Total marks: {}\".format(total.mark))"
      ],
      "execution_count": 3,
      "outputs": [
        {
          "output_type": "stream",
          "name": "stdout",
          "text": [
            "Quiz 1 (out of 10): 10\n",
            "Quiz 2 (out of 10): 8\n",
            "Lab (out of 30): 30\n",
            "Mid (out of 20): 20\n",
            "Final (out of 30): 29\n",
            "Total marks: 97\n"
          ]
        }
      ]
    },
    {
      "cell_type": "code",
      "metadata": {
        "colab": {
          "base_uri": "https://localhost:8080/"
        },
        "id": "ERRte7Rg4ngU",
        "outputId": "ff930630-1292-48e1-9375-2977046c1290"
      },
      "source": [
        "# Solution of task 2\n",
        "\n",
        "class Teacher:\n",
        "    def __init__(self, teacher_name, department):\n",
        "        self.__teacher_name = teacher_name\n",
        "        self.__department = department\n",
        "        self.__courses = []\n",
        "\n",
        "    def addCourse(self, new_course):\n",
        "        self.__courses.append(new_course)\n",
        "\n",
        "    def printDetail(self):\n",
        "        print('====================================')\n",
        "        print(f'Name: {self.__teacher_name}')\n",
        "        print(f'Department: {self.__department}')\n",
        "        print('List of courses')\n",
        "        print('====================================')\n",
        "        for var in self.__courses:\n",
        "            print(f'{var.course_name}')\n",
        "        print('====================================')\n",
        "\n",
        "\n",
        "class Course:\n",
        "    def __init__(self, course_name):\n",
        "        self.course_name = course_name\n",
        "\n",
        "\n",
        "t1 = Teacher(\"Saad Abdullah\", \"CSE\")\n",
        "t2 = Teacher(\"Mumit Khan\", \"CSE\")\n",
        "t3 = Teacher(\"Sadia Kazi\", \"CSE\")\n",
        "c1 = Course(\"CSE 110 Programming Language I\")\n",
        "c2 = Course(\"CSE 111 Programming Language-II\")\n",
        "c3 = Course(\"CSE 220 Data Structures\")\n",
        "c4 = Course(\"CSE 221 Algorithms\")\n",
        "c5 = Course(\"CCSE 230 Discrete Mathematics\")\n",
        "c6 = Course(\"CSE 310 Object Oriented Programming\")\n",
        "c7 = Course(\"CSE 320 Data Communications\")\n",
        "c8 = Course(\"CSE 340 Computer Architecture\")\n",
        "t1.addCourse(c1)\n",
        "t1.addCourse(c2)\n",
        "t2.addCourse(c3)\n",
        "t2.addCourse(c4)\n",
        "t2.addCourse(c5)\n",
        "t3.addCourse(c6)\n",
        "t3.addCourse(c7)\n",
        "t3.addCourse(c8)\n",
        "t1.printDetail()\n",
        "t2.printDetail()\n",
        "t3.printDetail()\n"
      ],
      "execution_count": 4,
      "outputs": [
        {
          "output_type": "stream",
          "name": "stdout",
          "text": [
            "====================================\n",
            "Name: Saad Abdullah\n",
            "Department: CSE\n",
            "List of courses\n",
            "====================================\n",
            "CSE 110 Programming Language I\n",
            "CSE 111 Programming Language-II\n",
            "====================================\n",
            "====================================\n",
            "Name: Mumit Khan\n",
            "Department: CSE\n",
            "List of courses\n",
            "====================================\n",
            "CSE 220 Data Structures\n",
            "CSE 221 Algorithms\n",
            "CCSE 230 Discrete Mathematics\n",
            "====================================\n",
            "====================================\n",
            "Name: Sadia Kazi\n",
            "Department: CSE\n",
            "List of courses\n",
            "====================================\n",
            "CSE 310 Object Oriented Programming\n",
            "CSE 320 Data Communications\n",
            "CSE 340 Computer Architecture\n",
            "====================================\n"
          ]
        }
      ]
    },
    {
      "cell_type": "code",
      "metadata": {
        "colab": {
          "base_uri": "https://localhost:8080/"
        },
        "id": "ICNBtp8I4nhu",
        "outputId": "c63b38a4-c277-4fc6-b754-e327b7397222"
      },
      "source": [
        "# Solution of task 3\n",
        "class Team:\n",
        "    def __init__(self, team_name='default'):\n",
        "        self.__team_name = team_name\n",
        "        self.__players = []\n",
        "\n",
        "    def setName(self, xset_team_name):\n",
        "        self.__team_name = xset_team_name\n",
        "\n",
        "    def addPlayer(self, new_player):\n",
        "        self.__players.append(new_player.player_name)\n",
        "\n",
        "    def printDetail(self):\n",
        "        print('=====================')\n",
        "        print(f'Team: {self.__team_name}')\n",
        "        print('List of Players:')\n",
        "        print(self.__players)\n",
        "        print('=====================')\n",
        "\n",
        "\n",
        "class Player:\n",
        "    def __init__(self, player_name):\n",
        "        self.player_name = player_name\n",
        "\n",
        "\n",
        "b = Team()\n",
        "b.setName('Bangladesh')\n",
        "mashrafi = Player(\"Mashrafi\")\n",
        "b.addPlayer(mashrafi)\n",
        "tamim = Player(\"Tamim\")\n",
        "b.addPlayer(tamim)\n",
        "b.printDetail()\n",
        "a = Team(\"Australia\")\n",
        "ponting = Player(\"Ponting\")\n",
        "a.addPlayer(ponting)\n",
        "lee = Player(\"Lee\")\n",
        "a.addPlayer(lee)\n",
        "a.printDetail()\n"
      ],
      "execution_count": 1,
      "outputs": [
        {
          "output_type": "stream",
          "name": "stdout",
          "text": [
            "=====================\n",
            "Team: Bangladesh\n",
            "List of Players:\n",
            "['Mashrafi', 'Tamim']\n",
            "=====================\n",
            "=====================\n",
            "Team: Australia\n",
            "List of Players:\n",
            "['Ponting', 'Lee']\n",
            "=====================\n"
          ]
        }
      ]
    },
    {
      "cell_type": "code",
      "metadata": {
        "colab": {
          "base_uri": "https://localhost:8080/"
        },
        "id": "xC0HawsT4nlh",
        "outputId": "65de28e4-7022-4bf7-b0a3-6dffa5f5fd07"
      },
      "source": [
        "# Solution of task 4\n",
        "class Color:\n",
        "    def __init__(self, clr):\n",
        "        self.clr = clr\n",
        "\n",
        "    def __add__(self, other):\n",
        "        if (self.clr == \"red\" or self.clr == \"yellow\") and (other.clr == 'red' or other.clr == 'yellow'):\n",
        "            return Color('Orange')\n",
        "        elif (self.clr == \"red\" or self.clr == \"blue\") and (other.clr == 'red' or other.clr == 'blue'):\n",
        "            return Color('Violet')\n",
        "        elif (self.clr == \"yellow\" or self.clr == \"blue\") and (other.clr == 'yellow' or other.clr == 'blue'):\n",
        "            return Color('Green')\n",
        "\n",
        "\n",
        "C1 = Color(input(\"First Color: \").lower())\n",
        "C2 = Color(input(\"Second Color: \").lower())\n",
        "C3 = C1 + C2\n",
        "print(\"Color formed:\", C3.clr)\n"
      ],
      "execution_count": 2,
      "outputs": [
        {
          "output_type": "stream",
          "name": "stdout",
          "text": [
            "First Color: red\n",
            "Second Color: yellow\n",
            "Color formed: Orange\n"
          ]
        }
      ]
    },
    {
      "cell_type": "code",
      "metadata": {
        "colab": {
          "base_uri": "https://localhost:8080/"
        },
        "id": "1ZH95e2l4nnF",
        "outputId": "0e2d8cd4-b04f-40dd-ad5f-2e2363a05eae"
      },
      "source": [
        "# Solution of task 5\n",
        "import math\n",
        "\n",
        "\n",
        "class Circle:\n",
        "    def __init__(self, c_rad):\n",
        "        self.__radius = c_rad\n",
        "        self.__area = math.pi * (c_rad ** 2)\n",
        "\n",
        "    def getRadius(self):\n",
        "        return self.__radius\n",
        "\n",
        "    def area(self):\n",
        "        return self.__area\n",
        "\n",
        "    def setRadius(self, rad):\n",
        "        self.__radius = rad\n",
        "\n",
        "    def __add__(self, other):\n",
        "        temp_rad = self.__radius + other.getRadius()\n",
        "        temp = Circle(temp_rad)\n",
        "        return temp\n",
        "\n",
        "\n",
        "c1 = Circle(4)\n",
        "print(\"First circle radius:\", c1.getRadius())\n",
        "print(\"First circle area:\", c1.area())\n",
        "c2 = Circle(5)\n",
        "print(\"Second circle radius:\", c2.getRadius())\n",
        "print(\"Second circle area:\", c2.area())\n",
        "c3 = c1 + c2\n",
        "print(\"Third circle radius:\", c3.getRadius())\n",
        "print(\"Third circle area:\", c3.area())\n"
      ],
      "execution_count": 3,
      "outputs": [
        {
          "output_type": "stream",
          "name": "stdout",
          "text": [
            "First circle radius: 4\n",
            "First circle area: 50.26548245743669\n",
            "Second circle radius: 5\n",
            "Second circle area: 78.53981633974483\n",
            "Third circle radius: 9\n",
            "Third circle area: 254.46900494077323\n"
          ]
        }
      ]
    },
    {
      "cell_type": "code",
      "metadata": {
        "colab": {
          "base_uri": "https://localhost:8080/"
        },
        "id": "YzBkArs_4nqx",
        "outputId": "d82a7664-1593-40fc-883d-8e7eed68b931"
      },
      "source": [
        "# Solution of task 6\n",
        "class Triangle:\n",
        "    def __init__(self, base, height):\n",
        "        self.__height = height\n",
        "        self.__base = base\n",
        "\n",
        "    def getBase(self):\n",
        "        return self.__base\n",
        "\n",
        "    def getHeight(self):\n",
        "        return self.__height\n",
        "\n",
        "    def setBase(self, new_base):\n",
        "        self.__base = new_base\n",
        "\n",
        "    def setHeight(self, new_height):\n",
        "        self.__height = new_height\n",
        "\n",
        "    def area(self):\n",
        "        return (1 / 2) * self.__base * self.__height\n",
        "\n",
        "    def __sub__(self, other):\n",
        "        temp_base = self.__base - other.getBase()\n",
        "        temp_height = self.__height - other.getHeight()\n",
        "        temp = Triangle(temp_base, temp_height)\n",
        "        return temp\n",
        "\n",
        "\n",
        "t1 = Triangle(10, 5)\n",
        "print(\"First Triangle Base:\", t1.getBase())\n",
        "print(\"First Triangle Height:\", t1.getHeight())\n",
        "print(\"First Triangle area:\", t1.area())\n",
        "t2 = Triangle(5, 3)\n",
        "print(\"Second Triangle Base:\", t2.getBase())\n",
        "print(\"Second Triangle Height:\", t2.getHeight())\n",
        "print(\"Second Triangle area:\", t2.area())\n",
        "t3 = t1 - t2\n",
        "print(\"Third Triangle Base:\", t3.getBase())\n",
        "print(\"Third Triangle Height:\", t3.getHeight())\n",
        "print(\"Third Triangle area:\", t3.area())\n"
      ],
      "execution_count": 4,
      "outputs": [
        {
          "output_type": "stream",
          "name": "stdout",
          "text": [
            "First Triangle Base: 10\n",
            "First Triangle Height: 5\n",
            "First Triangle area: 25.0\n",
            "Second Triangle Base: 5\n",
            "Second Triangle Height: 3\n",
            "Second Triangle area: 7.5\n",
            "Third Triangle Base: 5\n",
            "Third Triangle Height: 2\n",
            "Third Triangle area: 5.0\n"
          ]
        }
      ]
    },
    {
      "cell_type": "code",
      "metadata": {
        "id": "PRJS67Eq4nsU"
      },
      "source": [
        "# Solution of task 7"
      ],
      "execution_count": null,
      "outputs": []
    },
    {
      "cell_type": "code",
      "metadata": {
        "id": "nktA-vfG4v_y"
      },
      "source": [
        "# Solution of task 8"
      ],
      "execution_count": null,
      "outputs": []
    }
  ]
}