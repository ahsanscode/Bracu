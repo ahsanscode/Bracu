{
  "nbformat": 4,
  "nbformat_minor": 0,
  "metadata": {
    "colab": {
      "name": "AHSAN_ULLAH_21301157_13ipynb",
      "provenance": [],
      "collapsed_sections": []
    },
    "kernelspec": {
      "name": "python3",
      "display_name": "Python 3"
    },
    "language_info": {
      "name": "python"
    }
  },
  "cells": [
    {
      "cell_type": "code",
      "execution_count": 2,
      "metadata": {
        "colab": {
          "base_uri": "https://localhost:8080/"
        },
        "id": "UqRSNMj9uclH",
        "outputId": "524eaf9a-ba58-4189-b770-8891395ee44a"
      },
      "outputs": [
        {
          "output_type": "stream",
          "name": "stdout",
          "text": [
            "Total Traveller: 0\n",
            "=========================\n",
            "Name: Naruto\n",
            "Tickets: Mist Village,Rain Village\n",
            "Cost: 15000\n",
            "=========================\n",
            "Name: Minato\n",
            "Tickets: Cloud Village,Sand Village,Stone Village\n",
            "Cost: 21200\n",
            "=========================\n",
            "Name: Kushina\n",
            "Tickets: Leaves Village\n",
            "Cost: 3000\n",
            "=========================\n",
            "Total Traveller: 3\n"
          ]
        }
      ],
      "source": [
        "# Write your codes here.\n",
        "class Traveller:\n",
        "    count = 0\n",
        "\n",
        "    def __init__(self, name):\n",
        "        self.name = name\n",
        "        Traveller.count += 1\n",
        "        self.vilages = []\n",
        "        self.cost = 0\n",
        "\n",
        "    def buyTickets(self, *Parameters):\n",
        "        self.arguments = Parameters\n",
        "        for var in range(len(Parameters)):\n",
        "            if var % 2 != 0:\n",
        "                self.cost += Parameters[var]\n",
        "            else:\n",
        "                self.vilages.append(Parameters[var])\n",
        "\n",
        "    def printDetail(self):\n",
        "        print(f'Name: {self.name}')\n",
        "        print(f'Tickets: ', end='')\n",
        "        for var in range(len(self.vilages)):\n",
        "            if var == len(self.vilages) - 1:\n",
        "                print(self.vilages[var])\n",
        "            else:\n",
        "                print(self.vilages[var], end=',')\n",
        "        print(f'Cost: {self.cost}')\n",
        "\n",
        "\n",
        "# Do not change the following lines of code.\n",
        "print(\"Total Traveller:\", Traveller.count)\n",
        "t1 = Traveller(\"Naruto\")\n",
        "t1.buyTickets(\"Mist Village\", 5000, \"Rain Village\", 10000)\n",
        "t2 = Traveller(\"Minato\")\n",
        "t2.buyTickets(\"Cloud Village\", 15000, \"Sand Village\", 1200, \"Stone Village\", 5000)\n",
        "t3 = Traveller(\"Kushina\")\n",
        "t3.buyTickets(\"Leaves Village\", 3000)\n",
        "print(\"=========================\")\n",
        "t1.printDetail()\n",
        "print(\"=========================\")\n",
        "t2.printDetail()\n",
        "print(\"=========================\")\n",
        "t3.printDetail()\n",
        "print(\"=========================\")\n",
        "print(\"Total Traveller:\", Traveller.count)\n"
      ]
    }
  ]
}